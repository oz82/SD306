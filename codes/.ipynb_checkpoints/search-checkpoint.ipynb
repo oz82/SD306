{
 "cells": [
  {
   "cell_type": "code",
   "execution_count": 19,
   "id": "f305f66e",
   "metadata": {},
   "outputs": [],
   "source": [
    "from collections import deque  # deque modülünü içe aktar, FIFO kuyruğu için kullanılacak."
   ]
  },
  {
   "cell_type": "code",
   "execution_count": 20,
   "id": "5510d40c",
   "metadata": {},
   "outputs": [],
   "source": [
    "# BFS algoritmasının tanımı.\n",
    "def bfs(maze, start, goal):\n",
    "    queue = deque([[start]])  # Başlangıç noktasını içeren bir yol kuyruğu oluştur.\n",
    "    seen = set([start])  # Ziyaret edilen noktaları tutacak bir küme oluştur ve başlangıç noktasını ekle.\n",
    "    while queue:\n",
    "        path = queue.popleft()  # Kuyruktan bir yol çıkar (FIFO mantığıyla).\n",
    "        x, y = path[-1]  # Yolun son noktasını al (mevcut konum).\n",
    "        if (x, y) == goal:  # Eğer mevcut konum hedef noktaysa, yol döndürülür.\n",
    "            return path\n",
    "        # Mevcut konumdan hareket edilebilecek dört yönü kontrol et.\n",
    "        for x2, y2 in ((x+1,y), (x-1,y), (x,y+1), (x,y-1)):\n",
    "            # Yeni konumun geçerli olup olmadığını kontrol et (labirent sınırları içinde ve engel değilse).\n",
    "            if 0 <= x2 < len(maze[0]) and 0 <= y2 < len(maze) and maze[y2][x2] != \"#\" and (x2, y2) not in seen:\n",
    "                queue.append(path + [(x2, y2)])  # Yeni konumu mevcut yola ekleyip, kuyruğa ekle.\n",
    "                seen.add((x2, y2))  # Yeni konumu ziyaret edilenler kümesine ekle.\n",
    "    return None  # Eğer hedefe ulaşılamazsa None döndür."
   ]
  },
  {
   "cell_type": "code",
   "execution_count": 21,
   "id": "b2f31158",
   "metadata": {},
   "outputs": [
    {
     "name": "stdout",
     "output_type": "stream",
     "text": [
      "Path from S to G: [(0, 4), (0, 3), (0, 2), (0, 1), (0, 0), (1, 0), (2, 0), (2, 1), (2, 2)]\n"
     ]
    }
   ],
   "source": [
    "# Labirentin tanımı.\n",
    "maze = [\n",
    "    [\" \", \" \", \" \", \"#\", \" \", \" \", \" \"],\n",
    "    [\" \", \"#\", \" \", \"#\", \" \", \"#\", \" \"],\n",
    "    [\" \", \"#\", \"G\", \" \", \" \", \" \", \" \"],\n",
    "    [\" \", \" \", \"#\", \"#\", \"#\", \" \", \" \"],\n",
    "    [\"S\", \" \", \" \", \" \", \" \", \" \", \" \"]\n",
    "]\n",
    "\n",
    "# Başlangıç ve hedef noktaları.\n",
    "start = (0, 4)  # Başlangıç konumu\n",
    "goal = (2, 2)   # Hedef konumu\n",
    "\n",
    "# BFS algoritmasını çalıştır ve bulunan yolu yazdır.\n",
    "path = bfs(maze, start, goal)\n",
    "print(\"Path from S to G:\", path)"
   ]
  },
  {
   "cell_type": "code",
   "execution_count": null,
   "id": "dc7cae3d",
   "metadata": {},
   "outputs": [],
   "source": []
  }
 ],
 "metadata": {
  "kernelspec": {
   "display_name": "Python 3 (ipykernel)",
   "language": "python",
   "name": "python3"
  },
  "language_info": {
   "codemirror_mode": {
    "name": "ipython",
    "version": 3
   },
   "file_extension": ".py",
   "mimetype": "text/x-python",
   "name": "python",
   "nbconvert_exporter": "python",
   "pygments_lexer": "ipython3",
   "version": "3.9.13"
  }
 },
 "nbformat": 4,
 "nbformat_minor": 5
}
