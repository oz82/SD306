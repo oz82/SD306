{
 "cells": [
  {
   "cell_type": "code",
   "execution_count": 46,
   "id": "98c2c355",
   "metadata": {},
   "outputs": [],
   "source": [
    "# Öznitelikler ve alabilecekleri değerler\n",
    "attributes = ['Shape', 'Crust_Size', 'Crust_Shade', 'Filling_Size', 'Filling_Shade']\n",
    "values = {\n",
    "    'Shape': ['Circle', 'Triangle', 'Square'],\n",
    "    'Crust_Size': ['Thick', 'Thin'],\n",
    "    'Crust_Shade': ['Gray', 'White', 'Dark'],\n",
    "    'Filling_Size': ['Thick', 'Thin'],\n",
    "    'Filling_Shade': ['Dark', 'Gray', 'White']\n",
    "}\n",
    "\n",
    "# Veri tablosu\n",
    "data = [\n",
    "    {\"Example\": \"ex1\", \"Shape\": \"Circle\", \"Crust_Size\": \"Thick\", \"Crust_Shade\": \"Gray\", \"Filling_Size\": \"Thick\", \"Filling_Shade\": \"Dark\", \"Class\": \"pos\"},\n",
    "    {\"Example\": \"ex2\", \"Shape\": \"Circle\", \"Crust_Size\": \"Thick\", \"Crust_Shade\": \"White\", \"Filling_Size\": \"Thick\", \"Filling_Shade\": \"Dark\", \"Class\": \"pos\"},\n",
    "    {\"Example\": \"ex3\", \"Shape\": \"Triangle\", \"Crust_Size\": \"Thick\", \"Crust_Shade\": \"Dark\", \"Filling_Size\": \"Thick\", \"Filling_Shade\": \"Gray\", \"Class\": \"pos\"},\n",
    "    {\"Example\": \"ex4\", \"Shape\": \"Circle\", \"Crust_Size\": \"Thin\", \"Crust_Shade\": \"White\", \"Filling_Size\": \"Thin\", \"Filling_Shade\": \"Dark\", \"Class\": \"pos\"},\n",
    "    {\"Example\": \"ex5\", \"Shape\": \"Square\", \"Crust_Size\": \"Thick\", \"Crust_Shade\": \"Dark\", \"Filling_Size\": \"Thin\", \"Filling_Shade\": \"White\", \"Class\": \"pos\"},\n",
    "    {\"Example\": \"ex6\", \"Shape\": \"Circle\", \"Crust_Size\": \"Thick\", \"Crust_Shade\": \"White\", \"Filling_Size\": \"Thin\", \"Filling_Shade\": \"Dark\", \"Class\": \"pos\"},\n",
    "    {\"Example\": \"ex7\", \"Shape\": \"Circle\", \"Crust_Size\": \"Thick\", \"Crust_Shade\": \"Gray\", \"Filling_Size\": \"Thick\", \"Filling_Shade\": \"White\", \"Class\": \"neg\"},\n",
    "    {\"Example\": \"ex8\", \"Shape\": \"Square\", \"Crust_Size\": \"Thick\", \"Crust_Shade\": \"White\", \"Filling_Size\": \"Thick\", \"Filling_Shade\": \"Gray\", \"Class\": \"neg\"},\n",
    "    {\"Example\": \"ex9\", \"Shape\": \"Triangle\", \"Crust_Size\": \"Thin\", \"Crust_Shade\": \"Gray\", \"Filling_Size\": \"Thin\", \"Filling_Shade\": \"Dark\", \"Class\": \"neg\"},\n",
    "    {\"Example\": \"ex10\", \"Shape\": \"Circle\", \"Crust_Size\": \"Thick\", \"Crust_Shade\": \"Dark\", \"Filling_Size\": \"Thick\", \"Filling_Shade\": \"White\", \"Class\": \"neg\"},\n",
    "    {\"Example\": \"ex11\", \"Shape\": \"Square\", \"Crust_Size\": \"Thick\", \"Crust_Shade\": \"White\", \"Filling_Size\": \"Thick\", \"Filling_Shade\": \"Dark\", \"Class\": \"neg\"},\n",
    "    {\"Example\": \"ex12\", \"Shape\": \"Triangle\", \"Crust_Size\": \"Thick\", \"Crust_Shade\": \"White\", \"Filling_Size\": \"Thick\", \"Filling_Shade\": \"Gray\", \"Class\": \"neg\"}\n",
    "]"
   ]
  },
  {
   "cell_type": "code",
   "execution_count": 47,
   "id": "88f76d6a",
   "metadata": {},
   "outputs": [
    {
     "name": "stdout",
     "output_type": "stream",
     "text": [
      "Rule: ('OR', ('AND', ('==', 'Shape', 'Circle'), ('!=', 'Crust_Shade', 'Dark')), ('AND', ('==', 'Crust_Shade', 'Dark'), ('!=', 'Shape', 'Circle'))), Performance: 0.92\n",
      "Rule: ('OR', ('AND', ('!=', 'Shape', 'Circle'), ('==', 'Crust_Shade', 'Dark')), ('AND', ('!=', 'Crust_Shade', 'Dark'), ('==', 'Shape', 'Circle'))), Performance: 0.92\n",
      "Rule: ('OR', ('AND', ('==', 'Shape', 'Circle'), ('!=', 'Filling_Shade', 'White')), ('AND', ('==', 'Filling_Shade', 'White'), ('!=', 'Shape', 'Circle'))), Performance: 0.92\n",
      "Rule: ('OR', ('AND', ('!=', 'Shape', 'Circle'), ('==', 'Filling_Shade', 'White')), ('AND', ('!=', 'Filling_Shade', 'White'), ('==', 'Shape', 'Circle'))), Performance: 0.92\n",
      "Rule: ('OR', ('AND', ('==', 'Crust_Shade', 'Dark'), ('!=', 'Shape', 'Circle')), ('AND', ('==', 'Shape', 'Circle'), ('!=', 'Crust_Shade', 'Dark'))), Performance: 0.92\n"
     ]
    }
   ],
   "source": [
    "from itertools import product, combinations\n",
    "\n",
    "# Kuralların türetilmesi\n",
    "def generate_rules():\n",
    "    rules = []\n",
    "    for attr1, vals1 in values.items():\n",
    "        for val1 in vals1:\n",
    "            for attr2, vals2 in values.items():\n",
    "                if attr1 != attr2:  # Aynı öznitelik üzerinde değilse\n",
    "                    for val2 in vals2:\n",
    "                        for op1 in ['==', '!=']:\n",
    "                            for op2 in ['==', '!=']:\n",
    "                                rules.append(('OR', \n",
    "                                              ('AND', (op1, attr1, val1), (op2, attr2, val2)),\n",
    "                                              ('AND', (op1, attr2, val2), (op2, attr1, val1))\n",
    "                                             ))\n",
    "    return rules\n",
    "\n",
    "# Bir kuralın test edilmesi\n",
    "def test_rule(rule, example):\n",
    "    def evaluate_condition(cond, example):\n",
    "        op, attr, value = cond\n",
    "        return (example[attr] == value) if op == '==' else (example[attr] != value)\n",
    "    \n",
    "    def evaluate_and(and_rule, example):\n",
    "        _, cond1, cond2 = and_rule\n",
    "        return evaluate_condition(cond1, example) and evaluate_condition(cond2, example)\n",
    "    \n",
    "    _, or_cond1, or_cond2 = rule\n",
    "    return evaluate_and(or_cond1, example) or evaluate_and(or_cond2, example)\n",
    "\n",
    "# Kuralların değerlendirilmesi\n",
    "def evaluate_rules(rules, data):\n",
    "    performance = []\n",
    "    for rule in rules:\n",
    "        correct_predictions = 0\n",
    "        for example in data:\n",
    "            prediction = test_rule(rule, example)\n",
    "            actual_is_pos = example['Class'] == 'pos'\n",
    "            # Hem 'pos' hem de 'neg' durumlarını doğru bir şekilde hesapla\n",
    "            if prediction and actual_is_pos or not prediction and not actual_is_pos:\n",
    "                correct_predictions += 1\n",
    "        performance.append((rule, correct_predictions / len(data)))\n",
    "    return sorted(performance, key=lambda x: x[1], reverse=True)\n",
    "\n",
    "# Kuralların türetilmesi ve değerlendirilmesi\n",
    "rules = generate_rules()\n",
    "rule_performance = evaluate_rules(rules, data)\n",
    "\n",
    "# Performansı en iyi olan 5 kuralı yazdırma\n",
    "for rule, perf in rule_performance[:5]:\n",
    "    print(f\"Rule: {rule}, Performance: {perf:.2f}\")\n"
   ]
  },
  {
   "cell_type": "code",
   "execution_count": null,
   "id": "ca84ddde",
   "metadata": {},
   "outputs": [],
   "source": []
  }
 ],
 "metadata": {
  "kernelspec": {
   "display_name": "Python 3 (ipykernel)",
   "language": "python",
   "name": "python3"
  },
  "language_info": {
   "codemirror_mode": {
    "name": "ipython",
    "version": 3
   },
   "file_extension": ".py",
   "mimetype": "text/x-python",
   "name": "python",
   "nbconvert_exporter": "python",
   "pygments_lexer": "ipython3",
   "version": "3.9.13"
  }
 },
 "nbformat": 4,
 "nbformat_minor": 5
}
